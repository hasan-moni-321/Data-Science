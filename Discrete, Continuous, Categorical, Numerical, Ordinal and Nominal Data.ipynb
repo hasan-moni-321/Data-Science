{
 "cells": [
  {
   "cell_type": "markdown",
   "metadata": {},
   "source": [
    "# Discrete and Continuous Data"
   ]
  },
  {
   "cell_type": "code",
   "execution_count": null,
   "metadata": {},
   "outputs": [],
   "source": [
    "Discrete Data:\n",
    "    Definition: discrete data are those data which are full number of integer data.\n",
    "    Example: 3,5,6,8,4,3,2\n",
    "        \n",
    "Continuous Data:\n",
    "    Definition: Continuous data are those which have continuous value or float value \n",
    "    Example: 3.56, 5.234432, 76,454358\n",
    "        "
   ]
  },
  {
   "cell_type": "code",
   "execution_count": null,
   "metadata": {},
   "outputs": [],
   "source": []
  },
  {
   "cell_type": "code",
   "execution_count": null,
   "metadata": {},
   "outputs": [],
   "source": []
  },
  {
   "cell_type": "markdown",
   "metadata": {},
   "source": [
    "# Categorical and Numerical Nominal Ordinal Data"
   ]
  },
  {
   "cell_type": "code",
   "execution_count": null,
   "metadata": {},
   "outputs": [],
   "source": [
    "In computer science have two type of number:-\n",
    "    1) categorical number\n",
    "    2) numerical number\n",
    "    \n",
    "categorical number:-\n",
    "    Example: pen,pencil,masters, PHD,book,computer etc.\n",
    "        \n",
    "        categorical numbers again two type:-\n",
    "            1) nominal data \n",
    "                Definition: When data have no sequence those are called nominal data\n",
    "            example: book, pen,computer etc\n",
    "            2) ordinal data\n",
    "                Definition: When data have sequence those are called ordinal data\n",
    "            example: B.Sc, Masters, PHD\n",
    "                \n",
    "numerical number:-\n",
    "    Definition: When data are in number those are called numerical data\n",
    "    Example: 2,4,5,7,3,2,5"
   ]
  },
  {
   "cell_type": "code",
   "execution_count": null,
   "metadata": {},
   "outputs": [],
   "source": []
  },
  {
   "cell_type": "code",
   "execution_count": null,
   "metadata": {},
   "outputs": [],
   "source": []
  }
 ],
 "metadata": {
  "kernelspec": {
   "display_name": "Python 3",
   "language": "python",
   "name": "python3"
  },
  "language_info": {
   "codemirror_mode": {
    "name": "ipython",
    "version": 3
   },
   "file_extension": ".py",
   "mimetype": "text/x-python",
   "name": "python",
   "nbconvert_exporter": "python",
   "pygments_lexer": "ipython3",
   "version": "3.7.4"
  }
 },
 "nbformat": 4,
 "nbformat_minor": 2
}
