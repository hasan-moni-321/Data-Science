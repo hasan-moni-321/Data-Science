{
 "cells": [
  {
   "cell_type": "code",
   "execution_count": 3,
   "metadata": {},
   "outputs": [],
   "source": [
    "import numpy as np\n",
    "import pandas as pd\n",
    "import matplotlib.pyplot as plt\n",
    "\n",
    "from scipy.stats import chi2_contingency\n",
    "from scipy.stats import chi2"
   ]
  },
  {
   "cell_type": "code",
   "execution_count": 4,
   "metadata": {},
   "outputs": [],
   "source": [
    "data = [[34,65,89],\n",
    "        [23,40,90]]"
   ]
  },
  {
   "cell_type": "code",
   "execution_count": 5,
   "metadata": {},
   "outputs": [
    {
     "name": "stdout",
     "output_type": "stream",
     "text": [
      "stat value : 4.536187133708513\n",
      "p value : 0.10350932571033855\n",
      "degree of freedom : 2\n",
      "expected value :\n",
      " [[31.42521994 57.88856305 98.68621701]\n",
      " [25.57478006 47.11143695 80.31378299]]\n"
     ]
    }
   ],
   "source": [
    "stat, p, dof, expected = chi2_contingency(data)\n",
    "print('stat value :',stat)\n",
    "print('p value :',p)\n",
    "print('degree of freedom :',dof)\n",
    "print('expected value :\\n',expected)"
   ]
  },
  {
   "cell_type": "code",
   "execution_count": 6,
   "metadata": {},
   "outputs": [
    {
     "name": "stdout",
     "output_type": "stream",
     "text": [
      "We will not reject H0 hypothesis\n"
     ]
    }
   ],
   "source": [
    "alpha = 1-.95\n",
    "\n",
    "if p <= alpha:\n",
    "    print('We will reject H0 hypothesis')\n",
    "    \n",
    "else:\n",
    "    print('We will not reject H0 hypothesis')"
   ]
  },
  {
   "cell_type": "code",
   "execution_count": null,
   "metadata": {},
   "outputs": [],
   "source": []
  }
 ],
 "metadata": {
  "kernelspec": {
   "display_name": "Python 3",
   "language": "python",
   "name": "python3"
  },
  "language_info": {
   "codemirror_mode": {
    "name": "ipython",
    "version": 3
   },
   "file_extension": ".py",
   "mimetype": "text/x-python",
   "name": "python",
   "nbconvert_exporter": "python",
   "pygments_lexer": "ipython3",
   "version": "3.7.5"
  }
 },
 "nbformat": 4,
 "nbformat_minor": 2
}
