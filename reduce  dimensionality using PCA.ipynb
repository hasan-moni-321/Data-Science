{
 "cells": [
  {
   "cell_type": "markdown",
   "metadata": {},
   "source": [
    "# Type of PCA                                                                                         \n",
    "\n",
    "There are three types of PCA\n",
    "1. PCA\n",
    "    disadvantage:-\n",
    "        A particular disadvantage of ordinary PCA is that the principal components are usually linear \n",
    "        combinations of all input variables\n",
    "2. RandomizedPCA\n",
    "    advantage:-\n",
    "        Linear dimensionality reduction using approximated Singular Value Decomposition of the data and \n",
    "        keeping only the most significant singular vectors to project the data to a lower dimensional space.\n",
    "\n",
    "This implementation uses a randomized SVD implementation and can handle both scipy.sparse and numpy dense arrays as input.\n",
    "    \n",
    "3. SparsePCA\n",
    "    advantage:-\n",
    "        A particular disadvantage of ordinary PCA is that the principal components are usually linear \n",
    "        combinations of all input variables. Sparse PCA overcomes this disadvantage by finding linear \n",
    "        combinations that contain just a few input variables.  \n",
    "        \n",
    "        Finds the set of sparse components that can optimally reconstruct the data. The amount of sparseness \n",
    "        is controllable by the coefficient of the L1 penalty, given by the parameter alpha.\n",
    "        \n",
    "        Contemporary datasets often have the number of input variables ({\\displaystyle p}p) comparable \n",
    "        with or even much larger than the number of samples ({\\displaystyle n}n). It has been shown that \n",
    "        if {\\displaystyle p/n}{\\displaystyle p/n} does not converge to zero, the classical PCA is not \n",
    "        consistent. But sparse PCA can retain consistency even if {\\displaystyle p\\gg n.}{\\displaystyle p\\gg n.}\n",
    "\n"
   ]
  },
  {
   "cell_type": "code",
   "execution_count": 67,
   "metadata": {},
   "outputs": [],
   "source": [
    "import numpy as np\n",
    "import pandas as pd\n",
    "import seaborn as sns\n",
    "import matplotlib.pyplot as plt\n",
    "\n",
    "from sklearn.datasets import load_digits, fetch_lfw_people\n",
    "from sklearn.model_selection import train_test_split\n",
    "from sklearn.decomposition import PCA as RandomizedPCA\n",
    "from sklearn.decomposition import SparsePCA"
   ]
  },
  {
   "cell_type": "code",
   "execution_count": 39,
   "metadata": {},
   "outputs": [],
   "source": [
    "faces = fetch_lfw_people(min_faces_per_person=60)"
   ]
  },
  {
   "cell_type": "code",
   "execution_count": 40,
   "metadata": {},
   "outputs": [],
   "source": [
    "xtrain,xtest, ytrain,ytest = train_test_split(faces.data, faces.target, test_size=.3, random_state=13)"
   ]
  },
  {
   "cell_type": "code",
   "execution_count": 41,
   "metadata": {},
   "outputs": [
    {
     "name": "stdout",
     "output_type": "stream",
     "text": [
      "Shape of xtrain : (943, 2914)\n",
      "Shape of xtest : (405, 2914)\n",
      "Shape of ytrain : (943,)\n",
      "Shape of ytest : (405,)\n"
     ]
    }
   ],
   "source": [
    "print('Shape of xtrain :',xtrain.shape)\n",
    "print('Shape of xtest :',xtest.shape)\n",
    "print('Shape of ytrain :',ytrain.shape)\n",
    "print('Shape of ytest :',ytest.shape)"
   ]
  },
  {
   "cell_type": "markdown",
   "metadata": {},
   "source": [
    "# Reducing Dimension using PCA"
   ]
  },
  {
   "cell_type": "code",
   "execution_count": 42,
   "metadata": {},
   "outputs": [],
   "source": [
    "pca = PCA(n_components=3)\n",
    "pca.fit(xtrain)\n",
    "new_dim = pca.transform(xtrain)"
   ]
  },
  {
   "cell_type": "code",
   "execution_count": 43,
   "metadata": {},
   "outputs": [
    {
     "name": "stdout",
     "output_type": "stream",
     "text": [
      "Original dimension is : (943, 2914)\n",
      "After reducing dimension is : (943, 3)\n"
     ]
    }
   ],
   "source": [
    "print('Original dimension is :',xtrain.shape)\n",
    "print('After reducing dimension is :',new_dim.shape)"
   ]
  },
  {
   "cell_type": "markdown",
   "metadata": {},
   "source": [
    "I am seeing in previous time dimension was row=943 and column=2914                                              \n",
    "now the dimension is row=943 column=3                                                                         \n",
    "Note: PCA reduce the number of feature not numbfers of rows                                                         \n",
    "n_components parameter have range. It's range is 0 to min(n_sample, n_feature)"
   ]
  },
  {
   "cell_type": "code",
   "execution_count": 44,
   "metadata": {},
   "outputs": [
    {
     "data": {
      "text/plain": [
       "array([[-0.00669957, -0.0069887 , -0.00749792, ..., -0.00766871,\n",
       "        -0.00617269, -0.00570053],\n",
       "       [ 0.01656931,  0.0156669 ,  0.01580789, ..., -0.03752427,\n",
       "        -0.03711444, -0.03550629],\n",
       "       [-0.01995536, -0.01839831, -0.01683864, ..., -0.03024678,\n",
       "        -0.02691727, -0.02500657]], dtype=float32)"
      ]
     },
     "execution_count": 44,
     "metadata": {},
     "output_type": "execute_result"
    }
   ],
   "source": [
    "pca.components_"
   ]
  },
  {
   "cell_type": "code",
   "execution_count": 45,
   "metadata": {},
   "outputs": [
    {
     "data": {
      "text/plain": [
       "array([768107.25, 609143.6 , 293751.56], dtype=float32)"
      ]
     },
     "execution_count": 45,
     "metadata": {},
     "output_type": "execute_result"
    }
   ],
   "source": [
    "pca.explained_variance_"
   ]
  },
  {
   "cell_type": "markdown",
   "metadata": {},
   "source": [
    "the \"components\" to define the direction of the vector,                                                            \n",
    "and the \"explained variance\" to define the squared-length of the vector"
   ]
  },
  {
   "cell_type": "code",
   "execution_count": null,
   "metadata": {},
   "outputs": [],
   "source": []
  },
  {
   "cell_type": "code",
   "execution_count": null,
   "metadata": {},
   "outputs": [],
   "source": []
  },
  {
   "cell_type": "code",
   "execution_count": 24,
   "metadata": {},
   "outputs": [],
   "source": [
    "pca = PCA(n_components=405)\n",
    "pca.fit(xtest)\n",
    "new_dim = pca.transform(xtest)"
   ]
  },
  {
   "cell_type": "code",
   "execution_count": 26,
   "metadata": {},
   "outputs": [
    {
     "name": "stdout",
     "output_type": "stream",
     "text": [
      "Original dimension is : (405, 2914)\n",
      "After reducing dimension : (405, 405)\n"
     ]
    }
   ],
   "source": [
    "print('Original dimension is :',xtest.shape)\n",
    "print('After reducing dimension :',new_dim.shape)"
   ]
  },
  {
   "cell_type": "markdown",
   "metadata": {},
   "source": [
    "original dimension rows=405 columns=2914                                                                                  \n",
    "after reducing dimension rows=405 columns=405"
   ]
  },
  {
   "cell_type": "code",
   "execution_count": null,
   "metadata": {},
   "outputs": [],
   "source": []
  },
  {
   "cell_type": "code",
   "execution_count": null,
   "metadata": {},
   "outputs": [],
   "source": []
  },
  {
   "cell_type": "code",
   "execution_count": null,
   "metadata": {},
   "outputs": [],
   "source": [
    "pca = PCA(n_components=1000)\n",
    "pca.fit(xtrain)"
   ]
  },
  {
   "cell_type": "markdown",
   "metadata": {},
   "source": [
    "We can't do this because n_components value is not between 0 to min(n_sample, n_feature)"
   ]
  },
  {
   "cell_type": "code",
   "execution_count": null,
   "metadata": {},
   "outputs": [],
   "source": []
  },
  {
   "cell_type": "markdown",
   "metadata": {},
   "source": [
    "# Using RandomizedPCA"
   ]
  },
  {
   "cell_type": "code",
   "execution_count": 51,
   "metadata": {},
   "outputs": [
    {
     "data": {
      "text/plain": [
       "PCA(copy=True, iterated_power='auto', n_components=500, random_state=None,\n",
       "    svd_solver='auto', tol=0.0, whiten=False)"
      ]
     },
     "execution_count": 51,
     "metadata": {},
     "output_type": "execute_result"
    }
   ],
   "source": [
    "rpca = RandomizedPCA(n_components=500)\n",
    "rpca.fit(xtrain)"
   ]
  },
  {
   "cell_type": "code",
   "execution_count": 52,
   "metadata": {},
   "outputs": [],
   "source": [
    "new_dim = rpca.transform(xtrain)"
   ]
  },
  {
   "cell_type": "code",
   "execution_count": 53,
   "metadata": {},
   "outputs": [
    {
     "name": "stdout",
     "output_type": "stream",
     "text": [
      "Original dimension : (943, 2914)\n",
      "After reducing : (943, 500)\n"
     ]
    }
   ],
   "source": [
    "print('Original dimension :',xtrain.shape)\n",
    "print('After reducing :',new_dim.shape)"
   ]
  },
  {
   "cell_type": "code",
   "execution_count": 56,
   "metadata": {},
   "outputs": [
    {
     "data": {
      "text/plain": [
       "array([[-0.00669958, -0.00698873, -0.00749796, ..., -0.00766872,\n",
       "        -0.00617271, -0.00570054],\n",
       "       [ 0.01656925,  0.01566691,  0.0158079 , ..., -0.03752425,\n",
       "        -0.03711441, -0.03550625],\n",
       "       [-0.01995537, -0.01839848, -0.01683853, ..., -0.03024708,\n",
       "        -0.02691753, -0.02500677],\n",
       "       ...,\n",
       "       [-0.01952291,  0.00492571,  0.00922741, ...,  0.01322585,\n",
       "         0.0483762 , -0.05301105],\n",
       "       [-0.00608023,  0.00840851,  0.03278473, ...,  0.02613602,\n",
       "         0.01521712, -0.03184588],\n",
       "       [-0.03551473, -0.00502403,  0.02582608, ..., -0.00517617,\n",
       "         0.01218924, -0.03521325]], dtype=float32)"
      ]
     },
     "execution_count": 56,
     "metadata": {},
     "output_type": "execute_result"
    }
   ],
   "source": [
    "rpca.components_"
   ]
  },
  {
   "cell_type": "code",
   "execution_count": 59,
   "metadata": {},
   "outputs": [
    {
     "data": {
      "text/plain": [
       "(500,)"
      ]
     },
     "execution_count": 59,
     "metadata": {},
     "output_type": "execute_result"
    }
   ],
   "source": [
    "a = rpca.explained_variance_\n",
    "a.shape"
   ]
  },
  {
   "cell_type": "code",
   "execution_count": null,
   "metadata": {},
   "outputs": [],
   "source": []
  },
  {
   "cell_type": "code",
   "execution_count": null,
   "metadata": {},
   "outputs": [],
   "source": []
  },
  {
   "cell_type": "code",
   "execution_count": null,
   "metadata": {},
   "outputs": [],
   "source": [
    "rpca = RandomizedPCA(n_components=500)\n",
    "rpca.fit(xtest)"
   ]
  },
  {
   "cell_type": "markdown",
   "metadata": {},
   "source": [
    "It is not possible because n_components is not between 0 to min(n_samples, n_features)"
   ]
  },
  {
   "cell_type": "code",
   "execution_count": null,
   "metadata": {},
   "outputs": [],
   "source": []
  },
  {
   "cell_type": "code",
   "execution_count": null,
   "metadata": {},
   "outputs": [],
   "source": []
  },
  {
   "cell_type": "markdown",
   "metadata": {},
   "source": [
    "# Backing into Previous Dimension Using PCA"
   ]
  },
  {
   "cell_type": "code",
   "execution_count": 60,
   "metadata": {},
   "outputs": [
    {
     "data": {
      "text/plain": [
       "PCA(copy=True, iterated_power='auto', n_components=100, random_state=None,\n",
       "    svd_solver='auto', tol=0.0, whiten=False)"
      ]
     },
     "execution_count": 60,
     "metadata": {},
     "output_type": "execute_result"
    }
   ],
   "source": [
    "pca = PCA(n_components=100)\n",
    "pca.fit(xtrain)"
   ]
  },
  {
   "cell_type": "code",
   "execution_count": 62,
   "metadata": {},
   "outputs": [],
   "source": [
    "new_dim = pca.transform(xtrain)"
   ]
  },
  {
   "cell_type": "code",
   "execution_count": 63,
   "metadata": {},
   "outputs": [
    {
     "name": "stdout",
     "output_type": "stream",
     "text": [
      "Original dimension is : (943, 2914)\n",
      "New dimension : (943, 100)\n"
     ]
    }
   ],
   "source": [
    "print('Original dimension is :',xtrain.shape)\n",
    "print('New dimension :',new_dim.shape)"
   ]
  },
  {
   "cell_type": "code",
   "execution_count": 65,
   "metadata": {},
   "outputs": [
    {
     "data": {
      "text/plain": [
       "(943, 2914)"
      ]
     },
     "execution_count": 65,
     "metadata": {},
     "output_type": "execute_result"
    }
   ],
   "source": [
    "#backing to previous dimension\n",
    "back_dimension = pca.inverse_transform(new_dim)\n",
    "back_dimension.shape"
   ]
  },
  {
   "cell_type": "markdown",
   "metadata": {},
   "source": [
    "Now it back to it's previous dimension"
   ]
  },
  {
   "cell_type": "code",
   "execution_count": null,
   "metadata": {},
   "outputs": [],
   "source": []
  },
  {
   "cell_type": "code",
   "execution_count": null,
   "metadata": {},
   "outputs": [],
   "source": []
  },
  {
   "cell_type": "markdown",
   "metadata": {},
   "source": [
    "# Using SparsePCA"
   ]
  },
  {
   "cell_type": "code",
   "execution_count": 69,
   "metadata": {},
   "outputs": [
    {
     "name": "stderr",
     "output_type": "stream",
     "text": [
      "/home/hasan/anaconda3/lib/python3.7/site-packages/sklearn/decomposition/sparse_pca.py:170: DeprecationWarning: normalize_components=False is a backward-compatible setting that implements a non-standard definition of sparse PCA. This compatibility mode will be removed in 0.22.\n",
      "  DeprecationWarning)\n"
     ]
    },
    {
     "data": {
      "text/plain": [
       "SparsePCA(U_init=None, V_init=None, alpha=1, max_iter=1000, method='lars',\n",
       "          n_components=3, n_jobs=None, normalize_components=False,\n",
       "          random_state=None, ridge_alpha=0.01, tol=1e-08, verbose=False)"
      ]
     },
     "execution_count": 69,
     "metadata": {},
     "output_type": "execute_result"
    }
   ],
   "source": [
    "spca = SparsePCA(n_components=3)\n",
    "spca.fit(xtest)"
   ]
  },
  {
   "cell_type": "code",
   "execution_count": 70,
   "metadata": {},
   "outputs": [],
   "source": [
    "new_dim = spca.transform(xtest)"
   ]
  },
  {
   "cell_type": "code",
   "execution_count": 71,
   "metadata": {},
   "outputs": [
    {
     "name": "stdout",
     "output_type": "stream",
     "text": [
      "Original dimension : (405, 2914)\n",
      "New dimension : (405, 3)\n"
     ]
    }
   ],
   "source": [
    "print('Original dimension :', xtest.shape)\n",
    "print('New dimension :', new_dim.shape)"
   ]
  },
  {
   "cell_type": "code",
   "execution_count": 72,
   "metadata": {},
   "outputs": [
    {
     "data": {
      "text/plain": [
       "array([[-1589.90063164, -1648.4207122 , -1761.23919366, ...,\n",
       "        -1912.62062276, -1819.55761923, -1711.36998192],\n",
       "       [ -138.5949215 ,  -129.16881982,  -118.91519592, ...,\n",
       "          684.82019589,   644.82532294,   623.97369934],\n",
       "       [ -490.34455389,  -482.77221579,  -497.45419975, ...,\n",
       "         -686.93611031,  -606.84059791,  -551.16987113]])"
      ]
     },
     "execution_count": 72,
     "metadata": {},
     "output_type": "execute_result"
    }
   ],
   "source": [
    "spca.components_"
   ]
  },
  {
   "cell_type": "code",
   "execution_count": null,
   "metadata": {},
   "outputs": [],
   "source": []
  }
 ],
 "metadata": {
  "kernelspec": {
   "display_name": "Python 3",
   "language": "python",
   "name": "python3"
  },
  "language_info": {
   "codemirror_mode": {
    "name": "ipython",
    "version": 3
   },
   "file_extension": ".py",
   "mimetype": "text/x-python",
   "name": "python",
   "nbconvert_exporter": "python",
   "pygments_lexer": "ipython3",
   "version": "3.7.5"
  }
 },
 "nbformat": 4,
 "nbformat_minor": 2
}
