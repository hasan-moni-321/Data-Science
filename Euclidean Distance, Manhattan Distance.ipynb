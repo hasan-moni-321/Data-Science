{
 "cells": [
  {
   "cell_type": "markdown",
   "metadata": {},
   "source": [
    "# Euclidean Distance"
   ]
  },
  {
   "cell_type": "markdown",
   "metadata": {},
   "source": [
    "Euclidean Distance is a distance between two point. For example, a point(x1,y1) and another point (x2,y2) so,\n",
    "\n",
    "Euclidean Distance = root(sq(x2-x1)+ sqr(y2-y1))"
   ]
  },
  {
   "cell_type": "code",
   "execution_count": null,
   "metadata": {},
   "outputs": [],
   "source": []
  },
  {
   "cell_type": "markdown",
   "metadata": {},
   "source": [
    "#Example                                                                                                                  \n",
    "a = point(4,5)                                                                                                          \n",
    "b = point(7,4)                                                                                                                \n",
    "\n",
    "Euclidean Distance = root(sq(7-4)+sq(4-5))                                                                                              \n",
    "Euclidean Distance = root(sq(3)+sq(-1))                                                                                                   \n",
    "Euclidean Distance = root(9+1)                                                                                                                               \n",
    "Euclidean Distance = root(10)                                                                                                       \n",
    "Euclidean Distance = 3.16                               "
   ]
  },
  {
   "cell_type": "code",
   "execution_count": null,
   "metadata": {},
   "outputs": [],
   "source": []
  },
  {
   "cell_type": "markdown",
   "metadata": {},
   "source": [
    "# Manhattan Distance"
   ]
  },
  {
   "cell_type": "markdown",
   "metadata": {},
   "source": [
    "Manhattan Distance is a distance between two  point but it takes absolute value of x-axis and absolute value of y-axis\n",
    "\n",
    "Manhattan Distance = absolute(x2-x1)+absolute(y2-y1)"
   ]
  },
  {
   "cell_type": "code",
   "execution_count": null,
   "metadata": {},
   "outputs": [],
   "source": []
  },
  {
   "cell_type": "markdown",
   "metadata": {},
   "source": [
    "#Example                                                                                                                 \n",
    "a = point(3,4)                                                                                                                 \n",
    "b = point(8,2)                                                                                                         \n",
    "\n",
    "Manhattan Distance = absolute(8-3)+absolute(2-4)                                                                                  \n",
    "Manhattan Distance = absolute(5)+absolute(-2)                                                                                              \n",
    "Manhattan Distance = 5+2                                                                                                     \n",
    "Manhattan Distance = 7                                                                                                                "
   ]
  },
  {
   "cell_type": "code",
   "execution_count": null,
   "metadata": {},
   "outputs": [],
   "source": []
  }
 ],
 "metadata": {
  "kernelspec": {
   "display_name": "Python 3",
   "language": "python",
   "name": "python3"
  },
  "language_info": {
   "codemirror_mode": {
    "name": "ipython",
    "version": 3
   },
   "file_extension": ".py",
   "mimetype": "text/x-python",
   "name": "python",
   "nbconvert_exporter": "python",
   "pygments_lexer": "ipython3",
   "version": "3.7.4"
  }
 },
 "nbformat": 4,
 "nbformat_minor": 2
}
